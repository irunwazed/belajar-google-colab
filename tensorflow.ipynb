{
  "cells": [
    {
      "cell_type": "markdown",
      "metadata": {
        "id": "view-in-github",
        "colab_type": "text"
      },
      "source": [
        "<a href=\"https://colab.research.google.com/github/irunwazed/belajar-google-colab/blob/main/tensorflow.ipynb\" target=\"_parent\"><img src=\"https://colab.research.google.com/assets/colab-badge.svg\" alt=\"Open In Colab\"/></a>"
      ]
    },
    {
      "cell_type": "code",
      "source": [
        "import tensorflow as tf\n",
        "import numpy as np"
      ],
      "metadata": {
        "id": "Bfb7YjIL1cpP"
      },
      "execution_count": 1,
      "outputs": []
    },
    {
      "cell_type": "code",
      "source": [
        "tf.__version__"
      ],
      "metadata": {
        "id": "fkuAaaAi1_ED",
        "outputId": "e50504a0-a9a4-4ae3-c211-ed5e7c16156d",
        "colab": {
          "base_uri": "https://localhost:8080/",
          "height": 35
        }
      },
      "execution_count": 4,
      "outputs": [
        {
          "output_type": "execute_result",
          "data": {
            "text/plain": [
              "'2.12.0'"
            ],
            "application/vnd.google.colaboratory.intrinsic+json": {
              "type": "string"
            }
          },
          "metadata": {},
          "execution_count": 4
        }
      ]
    },
    {
      "cell_type": "code",
      "source": [
        "rank_0_tensor = tf.constant(4)\n",
        "rank_0_tensor"
      ],
      "metadata": {
        "id": "n1TQizjI2XWc",
        "outputId": "dd973c7f-4e86-45ce-f2af-b331151871b3",
        "colab": {
          "base_uri": "https://localhost:8080/"
        }
      },
      "execution_count": 5,
      "outputs": [
        {
          "output_type": "execute_result",
          "data": {
            "text/plain": [
              "<tf.Tensor: shape=(), dtype=int32, numpy=4>"
            ]
          },
          "metadata": {},
          "execution_count": 5
        }
      ]
    },
    {
      "cell_type": "code",
      "source": [
        "rank_1_tensor = tf.constant([2,3,4,6,7])\n",
        "rank_1_tensor"
      ],
      "metadata": {
        "id": "lp2lYk5k2jzs",
        "outputId": "77a28ece-be84-44a2-88d9-3dd54a130f9e",
        "colab": {
          "base_uri": "https://localhost:8080/"
        }
      },
      "execution_count": 6,
      "outputs": [
        {
          "output_type": "execute_result",
          "data": {
            "text/plain": [
              "<tf.Tensor: shape=(5,), dtype=int32, numpy=array([2, 3, 4, 6, 7], dtype=int32)>"
            ]
          },
          "metadata": {},
          "execution_count": 6
        }
      ]
    },
    {
      "cell_type": "code",
      "source": [
        "rank_2_tensor = tf.constant([[1,2],\n",
        "                             [2,3],\n",
        "                             [3,6]], dtype=tf.float16)\n",
        "rank_2_tensor"
      ],
      "metadata": {
        "id": "8NGu5yx02_IU",
        "outputId": "b92b7b93-0a32-4c4e-8ae3-38af8e445cab",
        "colab": {
          "base_uri": "https://localhost:8080/"
        }
      },
      "execution_count": 8,
      "outputs": [
        {
          "output_type": "execute_result",
          "data": {
            "text/plain": [
              "<tf.Tensor: shape=(3, 2), dtype=float16, numpy=\n",
              "array([[1., 2.],\n",
              "       [2., 3.],\n",
              "       [3., 6.]], dtype=float16)>"
            ]
          },
          "metadata": {},
          "execution_count": 8
        }
      ]
    },
    {
      "cell_type": "code",
      "source": [
        "rank_3_tensor = tf.constant([\n",
        "    [\n",
        "        [1,2,3,4,6],\n",
        "        [2,3,4,5,6]\n",
        "    ],\n",
        "    [\n",
        "        [1,2,3,4,7],\n",
        "        [8,9,5,3,6]\n",
        "    ],\n",
        "    [\n",
        "        [6,5,4,2,4],\n",
        "        [9,1,4,2,7]\n",
        "    ]\n",
        "])\n",
        "rank_3_tensor"
      ],
      "metadata": {
        "id": "RhBtlvBI3xYr",
        "outputId": "834134a9-88b3-4ca2-fa90-97f24706acaa",
        "colab": {
          "base_uri": "https://localhost:8080/"
        }
      },
      "execution_count": 9,
      "outputs": [
        {
          "output_type": "execute_result",
          "data": {
            "text/plain": [
              "<tf.Tensor: shape=(3, 2, 5), dtype=int32, numpy=\n",
              "array([[[1, 2, 3, 4, 6],\n",
              "        [2, 3, 4, 5, 6]],\n",
              "\n",
              "       [[1, 2, 3, 4, 7],\n",
              "        [8, 9, 5, 3, 6]],\n",
              "\n",
              "       [[6, 5, 4, 2, 4],\n",
              "        [9, 1, 4, 2, 7]]], dtype=int32)>"
            ]
          },
          "metadata": {},
          "execution_count": 9
        }
      ]
    },
    {
      "cell_type": "code",
      "source": [
        "np.array(rank_2_tensor)"
      ],
      "metadata": {
        "id": "Ab_N0ec-4bqs",
        "outputId": "97ebb50b-d0e6-4039-bf9f-f55720652b60",
        "colab": {
          "base_uri": "https://localhost:8080/"
        }
      },
      "execution_count": 10,
      "outputs": [
        {
          "output_type": "execute_result",
          "data": {
            "text/plain": [
              "array([[1., 2.],\n",
              "       [2., 3.],\n",
              "       [3., 6.]], dtype=float16)"
            ]
          },
          "metadata": {},
          "execution_count": 10
        }
      ]
    }
  ],
  "metadata": {
    "colab": {
      "name": "Welcome To Colaboratory",
      "toc_visible": true,
      "provenance": [],
      "include_colab_link": true
    },
    "kernelspec": {
      "display_name": "Python 3",
      "name": "python3"
    }
  },
  "nbformat": 4,
  "nbformat_minor": 0
}